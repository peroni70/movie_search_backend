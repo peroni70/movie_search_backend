{
 "cells": [
  {
   "cell_type": "markdown",
   "metadata": {},
   "source": [
    "# Movie Embedding Visualization"
   ]
  },
  {
   "cell_type": "code",
   "execution_count": null,
   "metadata": {},
   "outputs": [],
   "source": [
    "!pip install -r notebook-requirements.txt"
   ]
  },
  {
   "cell_type": "code",
   "execution_count": 1,
   "metadata": {},
   "outputs": [],
   "source": [
    "import pandas as pd\n",
    "import numpy as np\n",
    "from sklearn.manifold import TSNE"
   ]
  },
  {
   "cell_type": "code",
   "execution_count": 2,
   "metadata": {},
   "outputs": [],
   "source": [
    "movie_embs = np.load('../data/model/movie_embeddings.npy')\n",
    "movies = pd.read_parquet('../data/movies.parquet')"
   ]
  },
  {
   "cell_type": "code",
   "execution_count": 3,
   "metadata": {},
   "outputs": [],
   "source": [
    "movie_embs_2d = TSNE(n_components=2).fit_transform(movie_embs)"
   ]
  },
  {
   "cell_type": "code",
   "execution_count": 23,
   "metadata": {},
   "outputs": [],
   "source": [
    "from bokeh.plotting import figure, show\n",
    "from bokeh.models import LabelSet, ColumnDataSource, CategoricalColorMapper\n",
    "from bokeh.palettes import d3\n",
    "from sklearn.cluster import KMeans"
   ]
  },
  {
   "cell_type": "code",
   "execution_count": 15,
   "metadata": {},
   "outputs": [],
   "source": [
    "kmeans = KMeans(n_clusters=15, random_state=0).fit(movie_embs_2d)"
   ]
  },
  {
   "cell_type": "code",
   "execution_count": 39,
   "metadata": {},
   "outputs": [],
   "source": [
    "km_labels = [str(label) for label in kmeans.labels_]"
   ]
  },
  {
   "cell_type": "code",
   "execution_count": 42,
   "metadata": {},
   "outputs": [],
   "source": [
    "palette = d3['Category20'][15]\n",
    "string_range = [str(x) for x in range(15)]\n",
    "color_map = CategoricalColorMapper(factors=string_range,\n",
    "                                   palette=palette)"
   ]
  },
  {
   "cell_type": "code",
   "execution_count": 43,
   "metadata": {},
   "outputs": [],
   "source": [
    "p = figure(sizing_mode=\"stretch_width\", max_width=1000, plot_height=1000)\n",
    "#circle = p.circle(movie_embs_2d[:,0], movie_embs_2d[:,1], fill_color=\"blue\", size=5)\n",
    "source = ColumnDataSource(data=dict(x=movie_embs_2d[:,0],\n",
    "                                    y=movie_embs_2d[:,1],\n",
    "                                    titles=movies.movie_title,\n",
    "                                    label=km_labels))\n",
    "p.scatter(x='x', y='y', size=8, source=source, color={'field': 'label', 'transform': color_map})\n",
    "labels = LabelSet(x='x', y='y', text='titles', x_offset=5, y_offset=5, source=source, render_mode='canvas', text_font_size={'value': '8px'})\n",
    "p.add_layout(labels)"
   ]
  },
  {
   "cell_type": "code",
   "execution_count": 44,
   "metadata": {},
   "outputs": [],
   "source": [
    "show(p)"
   ]
  }
 ],
 "metadata": {
  "kernelspec": {
   "display_name": "Python 3",
   "language": "python",
   "name": "python3"
  },
  "language_info": {
   "codemirror_mode": {
    "name": "ipython",
    "version": 3
   },
   "file_extension": ".py",
   "mimetype": "text/x-python",
   "name": "python",
   "nbconvert_exporter": "python",
   "pygments_lexer": "ipython3",
   "version": "3.7.6"
  }
 },
 "nbformat": 4,
 "nbformat_minor": 4
}
